{
 "cells": [
  {
   "cell_type": "markdown",
   "metadata": {},
   "source": [
    "<img src=\"images/strathsdr_banner.png\" align=\"left\" >"
   ]
  },
  {
   "cell_type": "markdown",
   "metadata": {},
   "source": [
    "# RFSoC OFDM Transceiver\n",
    "----\n",
    "\n",
    "<div class=\"alert alert-box alert-info\">\n",
    "Please use Jupyter Labs http://board_ip_address/lab for this notebook.\n",
    "</div>\n",
    "\n",
    "This notebook demonstrates the implementation of an Orthogonal Frequency Division Multiplexing (OFDM) transceiver on the RFSoC2x2 board. PYNQ is used to control the underlying modulation scheme of the OFDM sub-carriers and for visualisation of data at various stages in the transmit/receive chain, such as the received constellations.       \n",
    "\n",
    "## Aims \n",
    "* To demonstrate a complete OFDM transceiver.\n",
    "* Explain the various stages OFDM comprises.\n",
    "* Provide an interactive and responsive means to inspect the data at each stage.\n",
    "\n",
    "## Table of Contents\n",
    "* [Introduction](#introduction)\n",
    "    * [Hardware Setup](#hardware-setup)\n",
    "    * [Software Setup](#software-setup)\n",
    "* [Transmit](#transmit)\n",
    "    * [Symbol Generation](#symbol-gen)\n",
    "    * [Transmit Signal](#transmit-signal)\n",
    "* [Receive](#creating-images)\n",
    "    * [Channel Frequency Response](#channel-frequency-response)\n",
    "    * [Constellation Plot](#constellation-plot)\n",
    "* [Conclusion](#conclusion)\n",
    "\n",
    "## References\n",
    "* [Xilinx, Inc, \"USP RF Data Converter: LogiCORE IP Product Guide\", PG269, v2.3, June 2020](https://www.xilinx.com/support/documentation/ip_documentation/usp_rf_data_converter/v2_3/pg269-rf-data-converter.pdf)\n",
    "\n",
    "## Revision History\n",
    "* **v1.0** | 26/02/2021 | OFDM transceiver notebook"
   ]
  },
  {
   "cell_type": "markdown",
   "metadata": {},
   "source": [
    "----"
   ]
  },
  {
   "cell_type": "markdown",
   "metadata": {},
   "source": [
    "## Introduction <a class=\"anchor\" id=\"introduction\"></a>\n",
    "\n",
    "The demonstrator is a complete OFDM transceiver. This notebook will explain each stage of the system with a combination of text, diagrams and live data capture. [Figure 1](#fig-1) below provides an overview of the system.\n",
    "\n",
    "<a class=\"anchor\" id=\"fig-1\"></a>\n",
    "<figure>\n",
    "<img src=\"./images/system_overview.png\" height='75%' width='75%'/>\n",
    "    <figcaption><b>Figure 1: OFDM Demonstrator System Overview</b></figcaption>\n",
    "</figure>\n",
    "\n",
    "The OFDM system starts with generation of random data symbols from 1 of 10 possible modulation schemes (BPSK to 1024 QAM), based on input provided from PYNQ. In accordance with the procedure used in the IEEE 802.11a/g standard, the symbols are grouped into blocks of 48 for mapping to sub-carriers. The OFDM symbol consists of 48 data sub-carriers, 4 pilot sub-carriers and 12 null sub-carriers (including DC). The final OFDM symbol is created by performing a 64 point IFFT and addding a 16 sample Cyclic Prefix (CP). The transmitted signal consists of a continuous stream of OFDM symbols. At the very beginning of the data stream, the L-STF and L-LTF training symbols from the IEEE 802.11a/g standard are transmitted, to aid synchronisation and channel estimation tasks in the receiver. \n",
    "\n",
    "In the receiver, timing and frequency synchronisation are performed to acquire symbol timing and correct for any frequency offsets. Once timing is achieved, the FFT is performed to recover the underlying data symbols in each OFDM symbol. The L-LTF symbols are used to estimate the channel frequency response at each sub-carrier position, which subsequently allows the data to be equalised. Finally, the pilot symbols are used to correct for residual phase errors in the phase tracking stage. The recovered symbols are then passed into the PS for visualisation in PYNQ."
   ]
  },
  {
   "cell_type": "markdown",
   "metadata": {},
   "source": [
    "### Hardware Setup <a class=\"anchor\" id=\"hardware-setup\"></a>\n",
    "This demonstration is intended to operate in the 2nd Nyquist Zone, at 2.4 GHz. Therefore, some analogue bandpass filters are required to prevent unwanted interference. \n",
    "\n",
    "The **Mini Circuits 15542 VBF-2435+ Coaxial Bandpass Filter** is suitable for this loopback demonstrator. Giving a passband of 2340 MHz to 2530 MHz.\n",
    "\n",
    "Your RFSoC2x2 development board should be setup in single channel mode. There are four SMA interfaces on your board that are labelled DAC1, DAC2, ADC1, and ADC2. To setup your board for this demonstration, you can connect a loopback channel as shown in [Figure 2](#fig-2).\n",
    "\n",
    "The default loopback configuration in this demonstration is connected as follows:\n",
    "* DAC1 to ADC1\n",
    "\n",
    "<a class=\"anchor\" id=\"fig-2\"></a>\n",
    "<figure>\n",
    "<img src='images/rfsoc2x2_setup.jpg' height='50%' width='50%'/>\n",
    "    <figcaption><b>Figure 2: RFSoC2x2 development board setup in loopback mode.</b></figcaption>\n",
    "</figure>\n",
    "\n",
    "The loopback connection will be useful for running the OFDM demonstrator. **Do Not** attach an antenna to any SMA interfaces labelled DAC1 or DAC2.\n",
    "\n",
    "<div class=\"alert alert-box alert-danger\">\n",
    "<b>Caution:</b>\n",
    "    In this demonstration, we generate signals using the RFSoC development board. Your device should be setup in loopback mode. You should understand that the RFSoC platform can also transmit RF signals wirelessly. Remember that unlicensed wireless transmission of RF signals may be illegal in your geographical location. Radio signals may also interfere with nearby devices, such as pacemakers and emergency radio equipment. Note that it is also illegal to intercept and decode particular RF signals. If you are unsure, please seek professional support.\n",
    "</div>\n",
    "\n",
    "### Software Setup\n",
    "The setup for the OFDM demonstration system is nearly complete. The majority of the libraries used by the demonstrator design are contained inside the RFSoC-OFDM software package. We only need to run a few code cells to initialise the environment."
   ]
  },
  {
   "cell_type": "code",
   "execution_count": null,
   "metadata": {},
   "outputs": [],
   "source": [
    "from rfsoc_ofdm.overlay import OfdmOverlay\n",
    "\n",
    "ofdm = OfdmOverlay()"
   ]
  },
  {
   "cell_type": "markdown",
   "metadata": {},
   "source": [
    "----"
   ]
  },
  {
   "cell_type": "markdown",
   "metadata": {},
   "source": [
    "## Transmit <a class=\"anchor\" id=\"transmit\"></a>\n",
    "\n",
    "### Symbol Generation <a class=\"anchor\" id=\"symbol-gen\"></a>\n",
    "There are a total of 10 modulation schemes available to be transmitted. These are generated on the programmable logic and can be chosen between by updating the *ofdm_tx IP core's* **mod** register with a value from 0-9 over AXI4-Lite. [Figure 3](#fig-3) illustrates the IP core as a simplified block diagram.\n",
    "\n",
    "<a class=\"anchor\" id=\"fig-3\"></a>\n",
    "<figure>\n",
    "<img src=\"./images/symbol_generation.png\" height='45%' width='45%'/>\n",
    "    <figcaption><b>Figure 3: Symbol generation block diagram.</b></figcaption>\n",
    "</figure>\n"
   ]
  },
  {
   "cell_type": "markdown",
   "metadata": {},
   "source": [
    "This drop down widget sends the value associated with each modulation scheme to the ofdm_tx core. Run the cell to use it."
   ]
  },
  {
   "cell_type": "code",
   "execution_count": null,
   "metadata": {},
   "outputs": [],
   "source": [
    "ofdm.modulation_type()"
   ]
  },
  {
   "cell_type": "markdown",
   "metadata": {},
   "source": [
    "The output of the symbol generation block has been tapped off, allowing for the live symbols to be visualised in Jupyter Lab. Run the cell below and hit play on the chart to inspect the symbols generated on the programmable logic.\n",
    "\n",
    "Try changing the modulation type using the dropdown widget above while the plot is updating."
   ]
  },
  {
   "cell_type": "code",
   "execution_count": null,
   "metadata": {},
   "outputs": [],
   "source": [
    "ofdm.plot_group('tx_sym', ['time-binary'], ofdm.ofdm_tx.get_tx_sym, fs=1e6)"
   ]
  },
  {
   "cell_type": "markdown",
   "metadata": {},
   "source": [
    "### Transmit Signal <a class=\"anchor\" id=\"transmit-signal\"></a>\n",
    "\n",
    "A further tap off point shows the transmit signal below. The symbols above have been mapped to sub carriers. An IFFT has then been performed and a cyclic prefix added. The stage tapped off is during the interpolation chain where the signal has been interpolated by a factor of 4, giving a sample rate of 4 MHz. \n",
    "\n",
    "Before running this plot, stop the one above if not already."
   ]
  },
  {
   "cell_type": "code",
   "execution_count": null,
   "metadata": {},
   "outputs": [],
   "source": [
    "ofdm.plot_group('tx_4M', ['time-binary'], ofdm.ofdm_tx.get_tx_4M, fs=4e6, y_range=[-0.3,0.3])"
   ]
  },
  {
   "cell_type": "markdown",
   "metadata": {},
   "source": [
    "## Receive <a class=\"anchor\" id=\"receive\"></a>\n",
    "\n",
    "### Channel Frequency Response <a class=\"anchor\" id=\"channel-frequency-response\"></a>\n",
    "\n",
    "In OFDM, the channel frequency response reduces to a single complex value per sub-carrier. The below plot shows the magnitude response at each sub-carrier position, as measured in the channel estimation subsytem. As mentioned, there are a total of 64 sub-carriers and the sub-carrier index ranges from $k=-32$ to $k=31$ including DC. Notice, the magnitude is zero at the DC and null sub-carrier positions, since no data is transmitted on these sub-carriers.        \n",
    "\n",
    "Run the cell below to get a frame from the programmable logic containing the channel estimation and plot the response:"
   ]
  },
  {
   "cell_type": "code",
   "execution_count": null,
   "metadata": {},
   "outputs": [],
   "source": [
    "import plotly.graph_objects as go\n",
    "import numpy as np\n",
    "\n",
    "plot_ch_est = ofdm.ofdm_rx.get_channel_estimate()\n",
    "\n",
    "fig = go.Figure()\n",
    "fig.add_trace(go.Scatter(x=np.arange(-32,32), y=plot_ch_est, mode='lines'))\n",
    "fig.data[0].line = dict(shape='hvh')\n",
    "fig.layout.title = 'Estimated Channel Frequency Response'\n",
    "fig.layout.xaxis.title = 'Subcarrier Index'\n",
    "fig.layout.yaxis.title = 'Magnitude (mV)'\n",
    "fig.show()"
   ]
  },
  {
   "cell_type": "markdown",
   "metadata": {},
   "source": [
    "### Constellation Plot <a class=\"anchor\" id=\"constellation-plot\"></a>\n",
    "\n",
    "Run the cell below to see the output of the OFDM receiver (ofdm_rx IP core) displayed as a constellation: "
   ]
  },
  {
   "cell_type": "code",
   "execution_count": null,
   "metadata": {},
   "outputs": [],
   "source": [
    "ofdm.plot_group(\n",
    "  'rx_demod',             # Plot group's ID\n",
    "  ['constellation'],      # List of plot types chosen from:\n",
    "                          # ['time','time-binary','frequency','constellation']\n",
    "  ofdm.ofdm_rx.get_demod, # Function to grab a buffer of samples\n",
    ")"
   ]
  },
  {
   "cell_type": "markdown",
   "metadata": {},
   "source": [
    "Some controls have been provided. Run the cell below and then try changing the modulation scheme. \n",
    "\n",
    "Also, you can change the transmit and receive center frequencies of the RF data converters. Remember that if analogue filters are being used, to keep the center frequency within their passband. "
   ]
  },
  {
   "cell_type": "code",
   "execution_count": null,
   "metadata": {},
   "outputs": [],
   "source": [
    "import ipywidgets as ipw\n",
    "ipw.HBox([ofdm.modulation_type(), ofdm.carrier_frequency()])"
   ]
  },
  {
   "cell_type": "markdown",
   "metadata": {},
   "source": [
    "## Conclusion <a class=\"anchor\" id=\"conclusion\"></a>\n",
    "This notebook has demonstrated a live OFDM transceiver operating on an RFSoC. It has been shown how PYNQ can be leveraged to interact with various parts of the hardware design, offering control of the system and visualisation of data. \n",
    "\n",
    "* The various components comprising the OFDM transmitter and receiver have been introduced at a high level. \n",
    "    * Modulation symbols were inspected.\n",
    "    * The transmitted signal was visualised.\n",
    "    * A channel estimation, calculated in the OFDM receiver, was displayed.\n",
    "    * The received and sychronised constellation was plotted.\n",
    "* Interacted with a real-time RF system.\n",
    "    * Changed modulation scheme.\n",
    "    * Updated the Tx and Rx carrier frequencies in the RF data converters.\n",
    "\n",
    "----\n",
    "----"
   ]
  }
 ],
 "metadata": {
  "kernelspec": {
   "display_name": "Python 3",
   "language": "python",
   "name": "python3"
  },
  "language_info": {
   "codemirror_mode": {
    "name": "ipython",
    "version": 3
   },
   "file_extension": ".py",
   "mimetype": "text/x-python",
   "name": "python",
   "nbconvert_exporter": "python",
   "pygments_lexer": "ipython3",
   "version": "3.6.5"
  },
  "widgets": {
   "application/vnd.jupyter.widget-state+json": {
    "state": {},
    "version_major": 2,
    "version_minor": 0
   }
  }
 },
 "nbformat": 4,
 "nbformat_minor": 4
}
